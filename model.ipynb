{
 "cells": [
  {
   "cell_type": "markdown",
   "metadata": {},
   "source": [
    "# Binary-Classification---Machine-Learning-Case-Study\n"
   ]
  },
  {
   "cell_type": "markdown",
   "metadata": {},
   "source": [
    "### Introduction\n",
    "\n",
    "You are a Data Scientist working in a Public Policy team. Your team needs you to come up with a prediction model to know if a person, based on his/her demographic data will earn $50,000 or more. This prediction will help the team in making policy decisions for providing financial assistance for the low-income group. You are given a sample data of the population along with their annual income. You can use that data to train your machine learning model..\n",
    "\n",
    "You can build your model in your own hardware/pc/ laptop and just upload the prediction as shown in the below format.\n",
    "\n",
    "You are free to use Python programming language of your preference to explore and build the model.\n",
    "\n",
    "Instructions for the case study are provided below.\n",
    "\n",
    "Build a Machine Learning Model, which is capable of predicting if an individual's income is greater than 50k or not.\n",
    "The prediction must be done based on various data attributes provided below.\n",
    "Use 'TrainData' file provided below for building the model.\n",
    "Use 'TestData' file provided below for testing your predictions.\n",
    "\n",
    "Data Attributes description.\n",
    "\n",
    "age: continuous.\n",
    "workclass: Private, Self-emp-not-inc, Self-emp-inc, Federal-gov, Local-gov, State-gov, Without-pay, Never- worked.\n",
    "fnlwgt: continuous.\n",
    "education: Bachelors, Some-college, 11th, HS-grad, Prof-school, Assoc-acdm, Assoc-voc, 9th, 7th-8th, 12th, Masters, 1st-4th, 10th, Doctorate, 5th-6th, Preschool.\n",
    "education-num: continuous.\n",
    "marital-status: Married-civ-spouse, Divorced, Never- married, Separated, Widowed, Married-spouse-absent, Married-AF-spouse.\n",
    "occupation: Tech-support, Craft-repair, Other-service, Sales, Exec-managerial, Prof-specialty, Handlers- cleaners, Machine-op-inspct, Adm-clerical, Farming- fishing, Transport-moving, Priv-house-serv, Protective- serv, Armed-Forces.\n",
    "relationship: Wife, Own child, Husband, Not-in-family. Other-relative, Unmarried.\n",
    "race: White, Asian-Pac-Islander, Amer-Indian-Eskimo,Other, Black.\n",
    "sex: Female, Male,\n",
    "capital-gain: continuous.\n",
    "capital-loss: continuous.\n",
    "hours-per-week: continuous.\n",
    "native-country: United States, Cambodia, England, Puerto Rico, Canada, Germany, Outlying-US(Guam- USVI-etc), India, Japan, Greece, South, China, Cuba, Iran, Honduras, Philippines, Italy, Poland, Jamaica, Vietnam, Mexico, Portugal, Ireland, France, Dominican- Republic, Laos, Ecuador, Taiwan, Haiti, Columbia, Hungary, Guatemala, Nicaragua, Scotland, Thailand, Yugoslavia, El-Salvador, Trinadad&Tobago, Peru, Hong Holand-Netherlands.\n",
    "income> $50K: binary (Target that needs to be predicted)\n",
    "\n",
    "You are open to use the tool of your choice Python. You are expected to update your results in the specified format.\n",
    "\n",
    "Datasets:\n",
    "\n",
    "Click the below links to download the train and test data.\n",
    "\n",
    "TrainData - The train data has 43957 records.\n",
    "\n",
    "TestData - The test data has 898 records.\n",
    "\n",
    "1. You can use the train data to build and train your model and perform your prediction using the test data.\n",
    "\n",
    "2. Once you have the predictions ready, paste them in the below format into the IDE.\n",
    "\n",
    "id, outcome\n",
    "\n",
    "0,1\n",
    "\n",
    "1,0\n",
    "\n",
    "2,1\n",
    "\n",
    "3,1\n",
    "\n",
    "4,0\n",
    "\n",
    "3. Click on \"Run Code\" button to view the model accuracy against the test data.\n",
    "\n",
    "4. The accuracy has to be at least 75 percent or above to pass this test, once you have reached the desired accuracy click on \"Save and Submit\" button.\n",
    "------------------------------------------------------------------------------------------------\n",
    "i have created a jupyter notebook in my vscode and downloaded the both csv files. \n",
    "Shall we start."
   ]
  },
  {
   "cell_type": "markdown",
   "metadata": {},
   "source": [
    "### Importing libraries"
   ]
  },
  {
   "cell_type": "code",
   "execution_count": 12,
   "metadata": {},
   "outputs": [],
   "source": [
    "# Import necessary libraries\n",
    "import pandas as pd\n",
    "\n",
    "# Handle missing values\n",
    "from sklearn.preprocessing import OneHotEncoder\n",
    "from sklearn.compose import ColumnTransformer\n",
    "from sklearn.pipeline import Pipeline\n",
    "from sklearn.impute import SimpleImputer\n",
    "from sklearn.preprocessing import StandardScaler"
   ]
  },
  {
   "cell_type": "markdown",
   "metadata": {},
   "source": [
    "### Loading the data"
   ]
  },
  {
   "cell_type": "code",
   "execution_count": 6,
   "metadata": {},
   "outputs": [
    {
     "name": "stdout",
     "output_type": "stream",
     "text": [
      "Training Data:\n",
      "   age  workclass  fnlwgt     education  educational-num      marital-status  \\\n",
      "0   67    Private  366425     Doctorate               16            Divorced   \n",
      "1   17    Private  244602          12th                8       Never-married   \n",
      "2   31    Private  174201     Bachelors               13  Married-civ-spouse   \n",
      "3   58  State-gov  110199       7th-8th                4  Married-civ-spouse   \n",
      "4   25  State-gov  149248  Some-college               10       Never-married   \n",
      "\n",
      "         occupation   relationship   race gender  capital-gain  capital-loss  \\\n",
      "0   Exec-managerial  Not-in-family  White   Male         99999             0   \n",
      "1     Other-service      Own-child  White   Male             0             0   \n",
      "2   Exec-managerial        Husband  White   Male             0             0   \n",
      "3  Transport-moving        Husband  White   Male             0             0   \n",
      "4     Other-service  Not-in-family  Black   Male             0             0   \n",
      "\n",
      "   hours-per-week native-country  income_>50K  \n",
      "0              60  United-States            1  \n",
      "1              15  United-States            0  \n",
      "2              40  United-States            1  \n",
      "3              40  United-States            0  \n",
      "4              40  United-States            0  \n",
      "\n",
      "Test Data:\n",
      "   age         workclass  fnlwgt   education  educational-num  \\\n",
      "0   39  Self-emp-not-inc  327120     HS-grad                9   \n",
      "1   32           Private  123253  Assoc-acdm               12   \n",
      "2   47           Private  232628     HS-grad                9   \n",
      "3   19           Private  374262        12th                8   \n",
      "4   46  Self-emp-not-inc  311231     HS-grad                9   \n",
      "\n",
      "       marital-status         occupation relationship   race gender  \\\n",
      "0  Married-civ-spouse       Craft-repair      Husband  White   Male   \n",
      "1  Married-civ-spouse       Craft-repair      Husband  White   Male   \n",
      "2  Married-civ-spouse       Craft-repair      Husband  Black   Male   \n",
      "3       Never-married  Handlers-cleaners    Own-child  White   Male   \n",
      "4  Married-civ-spouse    Farming-fishing      Husband  White   Male   \n",
      "\n",
      "   capital-gain  capital-loss  hours-per-week native-country  \n",
      "0             0             0              40       Portugal  \n",
      "1             0             0              42  United-States  \n",
      "2             0             0              40  United-States  \n",
      "3             0             0              20  United-States  \n",
      "4             0             0              40  United-States  \n"
     ]
    }
   ],
   "source": [
    "# File paths (assuming both files are in the same folder as the notebook)\n",
    "train_data_path = \"train.csv\"\n",
    "test_data_path = \"test.csv\"\n",
    "\n",
    "# Load the datasets\n",
    "train_data = pd.read_csv(train_data_path)\n",
    "test_data = pd.read_csv(test_data_path)\n",
    "\n",
    "# Display the first few rows of the training data\n",
    "print(\"Training Data:\")\n",
    "print(train_data.head())\n",
    "\n",
    "# Display the first few rows of the test data\n",
    "print(\"\\nTest Data:\")\n",
    "print(test_data.head())"
   ]
  },
  {
   "cell_type": "markdown",
   "metadata": {},
   "source": [
    "### Exploratory Data Analysis (EDA) \n",
    "checking for missing values and getting a sense of the data distribution. "
   ]
  },
  {
   "cell_type": "code",
   "execution_count": 7,
   "metadata": {},
   "outputs": [
    {
     "name": "stdout",
     "output_type": "stream",
     "text": [
      "Missing values in the training data:\n",
      "age                   0\n",
      "workclass          2498\n",
      "fnlwgt                0\n",
      "education             0\n",
      "educational-num       0\n",
      "marital-status        0\n",
      "occupation         2506\n",
      "relationship          0\n",
      "race                  0\n",
      "gender                0\n",
      "capital-gain          0\n",
      "capital-loss          0\n",
      "hours-per-week        0\n",
      "native-country      763\n",
      "income_>50K           0\n",
      "dtype: int64\n",
      "\n",
      "Missing values in the test data:\n",
      "age                0\n",
      "workclass          0\n",
      "fnlwgt             0\n",
      "education          0\n",
      "educational-num    0\n",
      "marital-status     0\n",
      "occupation         0\n",
      "relationship       0\n",
      "race               0\n",
      "gender             0\n",
      "capital-gain       0\n",
      "capital-loss       0\n",
      "hours-per-week     0\n",
      "native-country     0\n",
      "dtype: int64\n",
      "\n",
      "Summary statistics for numerical features (Training Data):\n",
      "                age        fnlwgt  educational-num  capital-gain  \\\n",
      "count  43957.000000  4.395700e+04     43957.000000  43957.000000   \n",
      "mean      38.617149  1.896730e+05        10.074118   1093.559797   \n",
      "std       13.734401  1.058215e+05         2.575092   7570.536063   \n",
      "min       17.000000  1.349200e+04         1.000000      0.000000   \n",
      "25%       28.000000  1.174960e+05         9.000000      0.000000   \n",
      "50%       37.000000  1.781000e+05        10.000000      0.000000   \n",
      "75%       48.000000  2.376710e+05        12.000000      0.000000   \n",
      "max       90.000000  1.490400e+06        16.000000  99999.000000   \n",
      "\n",
      "       capital-loss  hours-per-week   income_>50K  \n",
      "count  43957.000000    43957.000000  43957.000000  \n",
      "mean      88.246491       40.407694      0.239279  \n",
      "std      404.588410       12.400303      0.426648  \n",
      "min        0.000000        1.000000      0.000000  \n",
      "25%        0.000000       40.000000      0.000000  \n",
      "50%        0.000000       40.000000      0.000000  \n",
      "75%        0.000000       45.000000      0.000000  \n",
      "max     4356.000000       99.000000      1.000000  \n",
      "\n",
      "Categorical feature distribution (Training Data):\n",
      "       workclass education      marital-status    occupation relationship  \\\n",
      "count      41459     43957               43957         41451        43957   \n",
      "unique         8        16                   7            14            6   \n",
      "top      Private   HS-grad  Married-civ-spouse  Craft-repair      Husband   \n",
      "freq       30587     14197               20147          5519        17749   \n",
      "\n",
      "         race gender native-country  \n",
      "count   43957  43957          43194  \n",
      "unique      5      2             41  \n",
      "top     White   Male  United-States  \n",
      "freq    37572  29400          39429  \n"
     ]
    }
   ],
   "source": [
    "# Check for missing values in the training data\n",
    "print(\"Missing values in the training data:\")\n",
    "print(train_data.isnull().sum())\n",
    "\n",
    "# Check for missing values in the test data\n",
    "print(\"\\nMissing values in the test data:\")\n",
    "print(test_data.isnull().sum())\n",
    "\n",
    "# Summary statistics for numerical features\n",
    "print(\"\\nSummary statistics for numerical features (Training Data):\")\n",
    "print(train_data.describe())\n",
    "\n",
    "# Summary statistics for categorical features\n",
    "print(\"\\nCategorical feature distribution (Training Data):\")\n",
    "print(train_data.describe(include=['O']))"
   ]
  },
  {
   "cell_type": "markdown",
   "metadata": {},
   "source": [
    "\n",
    "### Handle missing values"
   ]
  },
  {
   "cell_type": "code",
   "execution_count": 8,
   "metadata": {},
   "outputs": [
    {
     "name": "stdout",
     "output_type": "stream",
     "text": [
      "Processed training data shape: (43957, 69)\n",
      "Processed test data shape: (899, 69)\n"
     ]
    }
   ],
   "source": [
    "# Handle missing values\n",
    "# For categorical features, use the mode to fill missing values\n",
    "categorical_features = ['workclass', 'occupation', 'native-country']\n",
    "categorical_transformer = Pipeline(steps=[\n",
    "    ('imputer', SimpleImputer(strategy='most_frequent')),\n",
    "    ('onehot', OneHotEncoder(handle_unknown='ignore'))\n",
    "])\n",
    "\n",
    "# For numerical features, you can also impute missing values if any\n",
    "numerical_features = ['age', 'fnlwgt', 'educational-num', 'capital-gain', 'capital-loss', 'hours-per-week']\n",
    "numerical_transformer = Pipeline(steps=[\n",
    "    ('imputer', SimpleImputer(strategy='mean')),\n",
    "    ('scaler', StandardScaler())\n",
    "])\n",
    "\n",
    "# Preprocessor for both numerical and categorical features\n",
    "preprocessor = ColumnTransformer(\n",
    "    transformers=[\n",
    "        ('num', numerical_transformer, numerical_features),\n",
    "        ('cat', categorical_transformer, categorical_features)\n",
    "    ])\n",
    "\n",
    "# Apply preprocessing to training and test data\n",
    "X_train = train_data.drop('income_>50K', axis=1)\n",
    "y_train = train_data['income_>50K']\n",
    "X_test = test_data\n",
    "\n",
    "X_train_processed = preprocessor.fit_transform(X_train)\n",
    "X_test_processed = preprocessor.transform(X_test)\n",
    "\n",
    "# Display the transformed feature shape\n",
    "print(f\"Processed training data shape: {X_train_processed.shape}\")\n",
    "print(f\"Processed test data shape: {X_test_processed.shape}\")"
   ]
  },
  {
   "cell_type": "markdown",
   "metadata": {},
   "source": [
    "### Model Building\n",
    "Now that your data is preprocessed, we can proceed with building a machine learning model. Given that this is a binary classification task, some suitable models include:\n",
    "\n",
    "* Logistic Regression: Simple and interpretable.\n",
    "* Random Forest: Can handle complex interactions and provides feature importance.\n",
    "* Gradient Boosting: Generally more accurate but can be more complex to tune.\n",
    "\n",
    "We'll start with Logistic Regression as a baseline model. If the performance isn't satisfactory, we can try more complex models."
   ]
  },
  {
   "cell_type": "code",
   "execution_count": 13,
   "metadata": {},
   "outputs": [
    {
     "name": "stdout",
     "output_type": "stream",
     "text": [
      "Validation Accuracy: 0.8218\n",
      "Classification Report:\n",
      "              precision    recall  f1-score   support\n",
      "\n",
      "           0       0.84      0.95      0.89      6656\n",
      "           1       0.73      0.42      0.53      2136\n",
      "\n",
      "    accuracy                           0.82      8792\n",
      "   macro avg       0.78      0.69      0.71      8792\n",
      "weighted avg       0.81      0.82      0.80      8792\n",
      "\n",
      "Confusion Matrix:\n",
      "[[6326  330]\n",
      " [1237  899]]\n"
     ]
    }
   ],
   "source": [
    "from sklearn.linear_model import LogisticRegression\n",
    "from sklearn.model_selection import train_test_split\n",
    "from sklearn.metrics import accuracy_score, classification_report, confusion_matrix\n",
    "\n",
    "# Split the training data for validation\n",
    "X_train_split, X_val, y_train_split, y_val = train_test_split(X_train_processed, y_train, test_size=0.2, random_state=42)\n",
    "\n",
    "# Initialize the Logistic Regression model\n",
    "model = LogisticRegression(max_iter=1000, random_state=42)\n",
    "\n",
    "# Train the model\n",
    "model.fit(X_train_split, y_train_split)\n",
    "\n",
    "# Make predictions on the validation set\n",
    "y_pred = model.predict(X_val)\n",
    "\n",
    "# Evaluate the model\n",
    "accuracy = accuracy_score(y_val, y_pred)\n",
    "print(f\"Validation Accuracy: {accuracy:.4f}\")\n",
    "\n",
    "# Print the classification report\n",
    "print(\"Classification Report:\")\n",
    "print(classification_report(y_val, y_pred))\n",
    "\n",
    "# Print the confusion matrix\n",
    "print(\"Confusion Matrix:\")\n",
    "print(confusion_matrix(y_val, y_pred))\n"
   ]
  },
  {
   "cell_type": "markdown",
   "metadata": {},
   "source": [
    "### Generating Predictions on Test Data:"
   ]
  },
  {
   "cell_type": "code",
   "execution_count": 14,
   "metadata": {},
   "outputs": [
    {
     "name": "stdout",
     "output_type": "stream",
     "text": [
      "Submission file created successfully!\n"
     ]
    }
   ],
   "source": [
    "# Generate predictions on the test data\n",
    "test_predictions = model.predict(X_test_processed)\n",
    "\n",
    "# Format predictions as required\n",
    "submission = pd.DataFrame({'id': range(len(test_predictions)), 'outcome': test_predictions})\n",
    "\n",
    "# Save the submission file\n",
    "submission.to_csv('submission.csv', index=False)\n",
    "\n",
    "print(\"Submission file created successfully!\")\n"
   ]
  },
  {
   "cell_type": "code",
   "execution_count": null,
   "metadata": {},
   "outputs": [],
   "source": []
  },
  {
   "cell_type": "code",
   "execution_count": null,
   "metadata": {},
   "outputs": [],
   "source": []
  }
 ],
 "metadata": {
  "kernelspec": {
   "display_name": "base",
   "language": "python",
   "name": "python3"
  },
  "language_info": {
   "codemirror_mode": {
    "name": "ipython",
    "version": 3
   },
   "file_extension": ".py",
   "mimetype": "text/x-python",
   "name": "python",
   "nbconvert_exporter": "python",
   "pygments_lexer": "ipython3",
   "version": "3.11.9"
  }
 },
 "nbformat": 4,
 "nbformat_minor": 2
}
