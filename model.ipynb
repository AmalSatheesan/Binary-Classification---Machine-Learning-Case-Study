{
 "cells": [
  {
   "cell_type": "markdown",
   "metadata": {},
   "source": [
    "# Binary-Classification---Machine-Learning-Case-Study\n"
   ]
  },
  {
   "cell_type": "markdown",
   "metadata": {},
   "source": [
    "### Introduction\n",
    "\n",
    "You are a Data Scientist working in a Public Policy team. Your team needs you to come up with a prediction model to know if a person, based on his/her demographic data will earn $50,000 or more. This prediction will help the team in making policy decisions for providing financial assistance for the low-income group. You are given a sample data of the population along with their annual income. You can use that data to train your machine learning model..\n",
    "\n",
    "You can build your model in your own hardware/pc/ laptop and just upload the prediction as shown in the below format.\n",
    "\n",
    "You are free to use Python programming language of your preference to explore and build the model.\n",
    "\n",
    "Instructions for the case study are provided below.\n",
    "\n",
    "Build a Machine Learning Model, which is capable of predicting if an individual's income is greater than 50k or not.\n",
    "The prediction must be done based on various data attributes provided below.\n",
    "Use 'TrainData' file provided below for building the model.\n",
    "Use 'TestData' file provided below for testing your predictions.\n",
    "\n",
    "Data Attributes description.\n",
    "\n",
    "age: continuous.\n",
    "workclass: Private, Self-emp-not-inc, Self-emp-inc, Federal-gov, Local-gov, State-gov, Without-pay, Never- worked.\n",
    "fnlwgt: continuous.\n",
    "education: Bachelors, Some-college, 11th, HS-grad, Prof-school, Assoc-acdm, Assoc-voc, 9th, 7th-8th, 12th, Masters, 1st-4th, 10th, Doctorate, 5th-6th, Preschool.\n",
    "education-num: continuous.\n",
    "marital-status: Married-civ-spouse, Divorced, Never- married, Separated, Widowed, Married-spouse-absent, Married-AF-spouse.\n",
    "occupation: Tech-support, Craft-repair, Other-service, Sales, Exec-managerial, Prof-specialty, Handlers- cleaners, Machine-op-inspct, Adm-clerical, Farming- fishing, Transport-moving, Priv-house-serv, Protective- serv, Armed-Forces.\n",
    "relationship: Wife, Own child, Husband, Not-in-family. Other-relative, Unmarried.\n",
    "race: White, Asian-Pac-Islander, Amer-Indian-Eskimo,Other, Black.\n",
    "sex: Female, Male,\n",
    "capital-gain: continuous.\n",
    "capital-loss: continuous.\n",
    "hours-per-week: continuous.\n",
    "native-country: United States, Cambodia, England, Puerto Rico, Canada, Germany, Outlying-US(Guam- USVI-etc), India, Japan, Greece, South, China, Cuba, Iran, Honduras, Philippines, Italy, Poland, Jamaica, Vietnam, Mexico, Portugal, Ireland, France, Dominican- Republic, Laos, Ecuador, Taiwan, Haiti, Columbia, Hungary, Guatemala, Nicaragua, Scotland, Thailand, Yugoslavia, El-Salvador, Trinadad&Tobago, Peru, Hong Holand-Netherlands.\n",
    "income> $50K: binary (Target that needs to be predicted)\n",
    "\n",
    "You are open to use the tool of your choice Python. You are expected to update your results in the specified format.\n",
    "\n",
    "Datasets:\n",
    "\n",
    "Click the below links to download the train and test data.\n",
    "\n",
    "TrainData - The train data has 43957 records.\n",
    "\n",
    "TestData - The test data has 898 records.\n",
    "\n",
    "1. You can use the train data to build and train your model and perform your prediction using the test data.\n",
    "\n",
    "2. Once you have the predictions ready, paste them in the below format into the IDE.\n",
    "\n",
    "id, outcome\n",
    "\n",
    "0,1\n",
    "\n",
    "1,0\n",
    "\n",
    "2,1\n",
    "\n",
    "3,1\n",
    "\n",
    "4,0\n",
    "\n",
    "3. Click on \"Run Code\" button to view the model accuracy against the test data.\n",
    "\n",
    "4. The accuracy has to be at least 75 percent or above to pass this test, once you have reached the desired accuracy click on \"Save and Submit\" button.\n",
    "------------------------------------------------------------------------------------------------\n",
    "i have created a jupyter notebook in my vscode and downloaded the both csv files. \n",
    "Shall we start."
   ]
  },
  {
   "cell_type": "code",
   "execution_count": null,
   "metadata": {},
   "outputs": [],
   "source": []
  },
  {
   "cell_type": "markdown",
   "metadata": {},
   "source": []
  }
 ],
 "metadata": {
  "language_info": {
   "name": "python"
  }
 },
 "nbformat": 4,
 "nbformat_minor": 2
}
